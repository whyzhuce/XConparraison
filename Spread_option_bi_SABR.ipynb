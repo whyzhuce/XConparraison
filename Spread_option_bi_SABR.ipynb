{
  "nbformat": 4,
  "nbformat_minor": 0,
  "metadata": {
    "colab": {
      "provenance": [],
      "include_colab_link": true
    },
    "kernelspec": {
      "name": "python3",
      "display_name": "Python 3"
    },
    "language_info": {
      "name": "python"
    }
  },
  "cells": [
    {
      "cell_type": "markdown",
      "metadata": {
        "id": "view-in-github",
        "colab_type": "text"
      },
      "source": [
        "<a href=\"https://colab.research.google.com/github/whyzhuce/XConparraison/blob/master/Spread_option_bi_SABR.ipynb\" target=\"_parent\"><img src=\"https://colab.research.google.com/assets/colab-badge.svg\" alt=\"Open In Colab\"/></a>"
      ]
    },
    {
      "cell_type": "markdown",
      "metadata": {
        "id": "tgh4QRhREKj8"
      },
      "source": [
        "# Pricing d'une Spread option en bi-SABR\n",
        "----\n",
        "\n",
        "\n",
        "> **Antonin Chaix**\n",
        "\n",
        "\n",
        "Le but de ce TP est d'évaluer la spread option dont le payoff en $T$ est :\n",
        "\n",
        "$$\n",
        "(X_T-Y_T-K)^+\n",
        "$$\n",
        "\n",
        "où $X$ et $Y$ sont deux actifs. En supposant (sans perte de généralité) que le taux $r$ est constant et que les deux actifs ne distribuent pas de dividendes, les forwards de maturité $T$ associés aux actifs $X$ et $Y$ sont :\n",
        "\n",
        "$$\n",
        "F_t^X= X_t e^{r(T-t)} \\qquad F_t^Y= Y_t e^{r(T-t)}\n",
        "$$\n",
        "\n",
        "Chacun de ces deux forwards est donc modélisé au moyen du modèle SABR :\n",
        "\n",
        "$$\n",
        "dF_t = \\sigma_t F_t^\\beta dW_t^1\\\\\n",
        "\\frac{d\\sigma_t}{\\sigma_t} = \\alpha dW_t^2\n",
        "$$\n",
        "\n",
        "défini par les 4 paramètres :\n",
        "* $\\sigma_0$ (valeur initiale de la volatilité)\n",
        "* $\\alpha$ (volatilité de la volatilité)\n",
        "* $\\beta$ (exposant CEV)\n",
        "* $\\rho$ (correlation entre le forward et sa volatilité, i.e. entre $W^1$ et $W^2$)\n",
        "\n",
        "A ces paramètres SABR (4 pour chaque actif, soit 8 au total), il faut ajouter :\n",
        "* La corrélation entre $X$ et $Y$\n",
        "* La corrélation entre $X$ et la volatililité de $Y$\n",
        "* La corrélation entre $Y$ et la volatililité de $X$\n",
        "* La corrélation entre les volatilités de $X$ et de $Y$\n"
      ]
    },
    {
      "cell_type": "markdown",
      "metadata": {
        "id": "hIk8n6QIeTfT"
      },
      "source": [
        "## Simulation des trajectoires dans le modèle bi-SABR\n",
        "\n",
        "Pour simuler les deux forwards en SABR nous avons besoin de simuler 4 aléas corrélés (forward + vol de X, idem pour Y). Nous utilisons donc la décomposition de Cholesky comme expliqué dans [cet autre TP](https://colab.research.google.com/drive/1K77rCifOCeF9jdQkGICqLWnkTSwpAjUD?usp=sharing).\n",
        "\n",
        "Pour plus de précisions sur le modèle SABR et la façon d'implémenter le Monte Carlo associé, se reporter à [ce TP](https://colab.research.google.com/drive/1NhQqGLtLBl1ACUDOKEJkbUzi7cMbbiax?usp=sharing)."
      ]
    },
    {
      "cell_type": "code",
      "metadata": {
        "colab": {
          "base_uri": "https://localhost:8080/"
        },
        "id": "cXLtrTI_eZjN",
        "outputId": "8d12b228-4a7a-4311-fa52-a5b446887915"
      },
      "source": [
        "import numpy as np\n",
        "import math\n",
        "from scipy.linalg import cholesky\n",
        "\n",
        "# Option maturity = MC Horizon\n",
        "T = 1\n",
        "\n",
        "# underlyings params\n",
        "r = 0.02\n",
        "discount = math.exp(-r*T)\n",
        "\n",
        "X0 = 100.\n",
        "fwd_X0 = X0 / discount\n",
        "\n",
        "Y0 = 100.\n",
        "fwd_Y0 = Y0 / discount\n",
        "\n",
        "# SABR params\n",
        "X_sigma0 = 0.20 # vol initiale\n",
        "X_alpha = 0.60 # volvol\n",
        "X_rho = -0.50 # correl fwd/vol\n",
        "X_beta =  1. # exposant CEV\n",
        "\n",
        "Y_sigma0 = 0.25 # vol initiale\n",
        "Y_alpha = 0.50 # volvol\n",
        "Y_rho = -0.60 # correl fwd/vol\n",
        "Y_beta =  1. # exposant CEV\n",
        "\n",
        "# other correls\n",
        "rho_XY = 0.5\n",
        "rho_volXvolY = 0.8\n",
        "rho_XvolY = -0.4\n",
        "rho_YvolX = -0.5\n",
        "\n",
        "# Cholesky decomposition of correl matrix\n",
        "correl = np.array( [[1.,        X_rho,        rho_XY,    rho_XvolY   ],\n",
        "\t\t\t\t\t\t\t\t\t\t[X_rho,     1.,           rho_YvolX, rho_volXvolY],\n",
        "\t\t\t\t\t\t\t\t\t\t[rho_XY,    rho_YvolX,    1.,        Y_rho       ],\n",
        "\t\t\t\t\t\t\t\t\t\t[rho_XvolY, rho_volXvolY, Y_rho,     1.          ]] )\n",
        "\n",
        "\n",
        "L = cholesky(correl, lower=True)\n",
        "\n",
        "# MC params\n",
        "Nsimul = 2*10**5\n",
        "Nsteps = 100\n",
        "\n",
        "# some display\n",
        "print(\"INPUTS | {:,} simulations | {} time steps | T = {} | \".format(Nsimul, Nsteps, T).replace(',', ' '))\n",
        "print(\"\\nParams SABR X :\", X_sigma0, X_alpha, X_rho, X_beta)\n",
        "print(\"Params SABR Y :\", Y_sigma0, Y_alpha, Y_rho, Y_beta)\n",
        "print(\"Correl X / Y :\", rho_XY)\n",
        "print(\"Correl vol X / vol Y :\", rho_volXvolY)\n",
        "print(\"Correl X / vol Y :\", rho_XvolY)\n",
        "print(\"Correl Y / vol X :\", rho_YvolX)\n",
        "\n",
        "# façon plus compacte de générer les lois corrélées\n",
        "# normal = np.empty(shape=(4, Nsteps, Nsimul))\n",
        "# for i in range(Nsteps) :\n",
        "#  \tnormal[:,i,:] = L.dot(np.random.normal(0, 1, (4, Nsimul)))\n",
        "\n",
        "norm1 = np.random.normal(0, 1, (Nsteps, Nsimul))\n",
        "norm2 = np.random.normal(0, 1, (Nsteps, Nsimul))\n",
        "norm3 = np.random.normal(0, 1, (Nsteps, Nsimul))\n",
        "norm4 = np.random.normal(0, 1, (Nsteps, Nsimul))\n",
        "\n",
        "norm_X    = norm1\n",
        "norm_volX = L[1,0] * norm1 + L[1,1] * norm2\n",
        "norm_Y    = L[2,0] * norm1 + L[2,1] * norm2 + L[2,2] * norm3\n",
        "norm_volY = L[3,0] * norm1 + L[3,1] * norm2 + L[3,2] * norm3 + L[3,3] * norm4\n",
        "\n",
        "# precalcs\n",
        "dt = T / Nsteps\n",
        "sqrt_dt = math.sqrt(dt)\n",
        "\n",
        "# forward on time steps x simulations\n",
        "fwd_X = np.empty(shape=(Nsteps+1, Nsimul))\n",
        "fwd_X[0,:] = fwd_X0\n",
        "\n",
        "# vol on time steps x simulations\n",
        "sigma_X = np.empty(shape=(Nsteps+1, Nsimul))\n",
        "sigma_X[0,:] = X_sigma0\n",
        "\n",
        "# forward on time steps x simulations\n",
        "fwd_Y = np.empty(shape=(Nsteps+1, Nsimul))\n",
        "fwd_Y[0,:] = fwd_Y0\n",
        "\n",
        "# vol on time steps x simulations\n",
        "sigma_Y = np.empty(shape=(Nsteps+1, Nsimul))\n",
        "sigma_Y[0,:] = Y_sigma0\n",
        "\n",
        "# MC loop SABR\n",
        "for i in range(Nsteps) :\n",
        "\t# X & X vol\n",
        "\tfwd_X[i+1,:] = fwd_X[i,:] + sigma_X[i,:] * np.power(fwd_X[i,:], X_beta) * sqrt_dt * norm_X[i,:]\n",
        "\tsigma_X[i+1,:] = sigma_X[i,:] * np.exp(-0.5 * X_alpha**2 * dt + X_alpha * sqrt_dt * norm_volX[i,:])\n",
        "\t# Y & Y vol\n",
        "\tfwd_Y[i+1,:] = fwd_Y[i,:] + sigma_Y[i,:] * np.power(fwd_Y[i,:], Y_beta) * sqrt_dt * norm_Y[i,:]\n",
        "\tsigma_Y[i+1,:] = sigma_Y[i,:] * np.exp(-0.5 * Y_alpha**2 * dt + Y_alpha * sqrt_dt * norm_volY[i,:])\n",
        "\n"
      ],
      "execution_count": null,
      "outputs": [
        {
          "output_type": "stream",
          "name": "stdout",
          "text": [
            "INPUTS | 200 000 simulations | 100 time steps | T = 1 | \n",
            "\n",
            "Params SABR X : 0.2 0.6 -0.5 1.0\n",
            "Params SABR Y : 0.25 0.5 -0.6 1.0\n",
            "Correl X / Y : 0.5\n",
            "Correl vol X / vol Y : 0.8\n",
            "Correl X / vol Y : -0.4\n",
            "Correl Y / vol X : -0.5\n"
          ]
        }
      ]
    },
    {
      "cell_type": "markdown",
      "metadata": {
        "id": "kfSa_4mngP04"
      },
      "source": [
        "## Pricing de la spread option dans le modèle bi-SABR\n",
        "\n",
        "On définit une petite fonction permettant de calculer/afficher prix et intervalle de confiance... et on calcule le payoff (très simple) de la spread option avant d'appeler cette fonction..."
      ]
    },
    {
      "cell_type": "code",
      "metadata": {
        "colab": {
          "base_uri": "https://localhost:8080/"
        },
        "id": "Bq49WVk3gXS3",
        "outputId": "0a38ab25-c206-4951-c9cc-985a57f6c254"
      },
      "source": [
        "# compute and display price & confidence interval\n",
        "def compute_and_print_price(payoff, option_name, closed_form_price = -1) :\n",
        "    price = payoff.mean()\n",
        "    stdev = np.std(payoff)\n",
        "    IClow = price - 1.96 * stdev / math.sqrt(Nsimul)\n",
        "    ICup = price + 1.96 * stdev / math.sqrt(Nsimul)\n",
        "    if (closed_form_price == -1) : print(\"{} = {:.4f}\".format(option_name, price) )\n",
        "    else :  print(\"{} = {:.4f} (closed-form price = {:.4f})\".format(option_name, price, closed_form_price) )\n",
        "    print(\"IC 95% = [{:.4f} ; {:.4f}]\".format(IClow,ICup) )\n",
        "    print(\"-----------------------------------------------------\")\n",
        "    return price\n",
        "\n",
        "# spread option strike\n",
        "K = 15\n",
        "\n",
        "# spread option payoff\n",
        "payoff_spread_option_sabr = discount * np.maximum(fwd_X[-1,:] - fwd_Y[-1,:] - K, 0.)\n",
        "\n",
        "# MC Price\n",
        "print(\"SPREAD OPTION | T = {} | K = {} | \\n\".format(T, K))\n",
        "sabr_price = compute_and_print_price(payoff_spread_option_sabr, \"Bi-SABR price\")"
      ],
      "execution_count": null,
      "outputs": [
        {
          "output_type": "stream",
          "name": "stdout",
          "text": [
            "SPREAD OPTION | T = 1 | K = 15 | \n",
            "\n",
            "Bi-SABR price = 3.7319\n",
            "IC 95% = [3.6909 ; 3.7730]\n",
            "-----------------------------------------------------\n"
          ]
        }
      ]
    },
    {
      "cell_type": "markdown",
      "metadata": {
        "id": "xWY-wct6hXaY"
      },
      "source": [
        "## Comparaison avec les prix analytiques dans les modèles Black-Scholes et normal\n",
        "\n",
        "Nous allons avoir besoin des fonction suivantes (implémentées dans la cellule suivante) :\n",
        "\n",
        "* Formule de Black pour un call\n",
        "* Formule normale pour un call (Bachelier)\n",
        "* Fonction permettant de convertir une vol Black en vol normale\n",
        "* Prix d'une spread option dans le modèle normal\n",
        "* Prix d'une spread option dans le modèle de Black\n",
        "* Formule SABR (donnant la valeur approchée de la vol implicite dans le modèle SABR)\n",
        "\n",
        "Le pricing de la spread option dans le modèle de Black (fonction `bs_spread_option` définie plus bas) nécessite peut-être quelques explications... On souhaite donc évaluer :\n",
        "\n",
        "\n",
        "$$\n",
        "e^{-rT}\\mathbb E^Q\\left((X_T - Y_T - K)^+\\right)\n",
        "$$\n",
        "\n",
        "lorsque $X$ et $Y$ sont lognormaux. Supposons (pour alléger les notations) que $X$ et $Y$ désignent directement les forwards de maturité $T$ sur nos deux actifs. On veut donc calculer l'espérance ci-dessus en supposant que les processus $X$ et $Y$ sont deux martingales lognormales, soit :\n",
        "\n",
        "$$\n",
        "\\frac{dX_t}{X_t}=\\sigma_X dW_t^X \\qquad \\frac{dY_t}{Y_t}=\\sigma_X dW_t^Y\n",
        "$$\n",
        "\n",
        "avec une corrélation $\\rho$ entre les browniens $W^X$ et $W^Y$.\n",
        "\n",
        "On peut écrire $X_T$ et $Y_T$ à partir de deux variables gaussiennes $ɛ_1$ et $ɛ_2$ centrées réduites indépendantes :\n",
        "\n",
        "$$\n",
        "X_T=X_0\\exp\\left(-\\frac{1}{2}\\sigma_X^2T+\\sigma_X\\sqrt{T}\\left(\\rho ɛ_1+\\sqrt{1-\\rho^2}ɛ_2\\right)\\right)\\\\\n",
        "Y_T=Y_0\\exp\\left(-\\frac{1}{2}\\sigma_Y^2T+\\sigma_Y\\sqrt{T}ɛ_1\\right)\n",
        "$$\n",
        "\n",
        "Si bien que notre espérance peut s'évaluer :\n",
        "\n",
        "$$\n",
        "\\mathbb E^Q\\left((X_T - Y_T - K)^+\\right) = \\int_{-\\infty}^{+\\infty}\\mathbb E^Q\\left(\\left(X_0\\exp\\left(-\\frac{1}{2}\\sigma_X^2T+\\sigma_X\\sqrt{T}\\left(\\rho ɛ_1+\\sqrt{1-\\rho^2}ɛ_2\\right)\\right)-Y_0\\exp\\left(-\\frac{1}{2}\\sigma_Y^2T+\\sigma_Y\\sqrt{T}ɛ_1\\right)-K\\right)^+  \\,\\middle|\\; ɛ_1 = y\\right)n(y)dy\n",
        "$$\n",
        "\n",
        "où $n$ est la densité de la loi normale centrée réduite :\n",
        "\n",
        "$$\n",
        "n(x) = \\frac{1}{\\sqrt{2\\pi}} e^{-\\frac{x^2}{2}}\n",
        "$$\n",
        "\n",
        "On peut récrire notre espérance :\n",
        "\n",
        "$$\n",
        "\\mathbb E^Q\\left((X_T - Y_T - K)^+\\right) = \\int_{-\\infty}^{+\\infty}\\mathbb E^Q\\left(\\left(\\widehat {X_0} (ɛ_1)\\exp\\left(-\\frac{1}{2}\\widehat\\sigma_X^2T+\\widehat\\sigma_X\\sqrt{T}ɛ_2\\right)-\\widehat K (ɛ_1) \\right)^+  \\,\\middle|\\; ɛ_1 = y\\right)n(y)dy\n",
        "$$\n",
        "\n",
        "avec :\n",
        "\n",
        "\n",
        "$$\n",
        "\\widehat \\sigma_X = \\sigma_X\\sqrt{1-\\rho^2}\n",
        "$$\n",
        "\n",
        "$$\n",
        "\\widehat {X_0} (ɛ_1) = X_0 \\exp\\left(- \\frac{1}{2}\\sigma_X^2\\rho^2 T+\\rho\\sigma_X\\sqrt{T}\\varepsilon_1\\right)\n",
        "$$\n",
        "\n",
        "$$\n",
        "\\widehat K (ɛ_1) =Y_0\\exp\\left(-\\frac{1}{2}\\sigma_Y^2T+\\sigma_Y\\sqrt{T}ɛ_1\\right)+K\n",
        "$$\n",
        "\n",
        "de sorte que que l'espérance conditionnelle sous l'intégrale se calcule au moyen de la formule de Black :\n",
        "\n",
        "$$\n",
        "\\mathbb E^Q\\left((X_T - Y_T - K)^+\\right) = \\int_{-\\infty}^{+\\infty}\\text{BScall}\\left(T, \\widehat K (y), \\widehat {X_0} (y), \\widehat \\sigma_X\\right)n(y)dy\n",
        "$$\n",
        "\n",
        "Il ne reste plus qu'à calculer numériquement cette intégrale par la méthode des trapèzes et le tour est joué. Tout cela est implémenté dans la fonction `bs_spread_option` ci-dessous.\n"
      ]
    },
    {
      "cell_type": "code",
      "metadata": {
        "id": "46slaI51hjGr"
      },
      "source": [
        "from scipy.stats import norm\n",
        "from scipy import optimize\n",
        "\n",
        "# BS formula for a call / numpy compatible\n",
        "def bs_call(T, K, F0, sigma) :\n",
        "    sigma_sqrt_T = sigma * np.sqrt(T)\n",
        "    d1 = (np.log(F0/K) + 0.5 * sigma**2 * T) / sigma_sqrt_T\n",
        "    d2 = d1 - sigma_sqrt_T\n",
        "    return F0 * norm.cdf(d1) - K * norm.cdf(d2)\n",
        "\n",
        "# Normal formula for a call\n",
        "def norm_call(T, K, F, sigma) :\n",
        "\tif (T==0 or sigma==0) : return max(F-K, 0)\n",
        "\tsigma_sqrt_T = sigma * math.sqrt(T)\n",
        "\td = (F - K) / sigma_sqrt_T\n",
        "\treturn sigma_sqrt_T * (d * norm.cdf(d) + norm.pdf(d))\n",
        "\n",
        "# Converts a BS vol into normal vol\n",
        "def bs_to_norm_vol(T, K, F, bs_vol) :\n",
        "\tguess = F * bs_vol\n",
        "\tbs_price = bs_call(T, K, F, bs_vol)\n",
        "\tdef f(x):\n",
        "\t\treturn norm_call(T, K, F, x) - bs_price\n",
        "\treturn optimize.newton(f, guess)\n",
        "\n",
        "# Spread option (normal model)\n",
        "def norm_spread_option (T, K, F1, F2, sigma1, sigma2, rho):\n",
        "\tnorm_vol = math.sqrt(sigma1**2 + sigma2**2 - 2*rho*sigma1*sigma2)\n",
        "\treturn norm_call(T, K, F1-F2, norm_vol)\n",
        "\n",
        "# Spread option (BS model)\n",
        "def bs_spread_option (T, K, F1, F2, sigma1, sigma2, rho):\n",
        "\tnx, nstdev = 201, 6.\n",
        "\tx = np.linspace(-nstdev, nstdev, nx, endpoint=True)\n",
        "\tdx = (x[-1] - x[0]) / (nx - 1)\n",
        "\tsqrt_T = math.sqrt(T)\n",
        "\tstrike = F2 * np.exp(-0.5*sigma2**2*T + sigma2*sqrt_T*x) + K\n",
        "\tstrike = np.maximum(strike, 0.00001) # eviter strike negatif dans les cas extrêmes\n",
        "\tfwd = F1 * np.exp(-0.5*(sigma1*rho)**2*T + rho*sigma1*sqrt_T*x)\n",
        "\tvol = sigma1 * math.sqrt(1.-rho**2)\n",
        "\tinteg = bs_call(T, strike, fwd, vol) * (1./math.sqrt(2.*math.pi)) * np.exp(-0.5*x**2)\n",
        "\treturn np.sum(dx * 0.5 * (integ[:-1] + integ[1:nx]))\n",
        "\n",
        "\n",
        "# SABR lognormal vol formula from [https://github.com/ynouri/pysabr] made numpy compatible\n",
        "def sabr_vol (T, K, F0, sigma0, alpha, rho, beta) :\n",
        "    \"\"\"\n",
        "    Hagan's 2002 SABR lognormal vol expansion.\n",
        "    The strike K can be a scalar or an array, the function will return an array\n",
        "    of lognormal vols.\n",
        "    \"\"\"\n",
        "    eps = 1e-07\n",
        "    logfk = np.log(F0 / K)\n",
        "    fkbeta = (F0*K)**(1 - beta)\n",
        "    a = (1 - beta)**2 * sigma0**2 / (24 * fkbeta)\n",
        "    b = 0.25 * rho * beta * alpha * sigma0 / fkbeta**0.5\n",
        "    c = (2 - 3*rho**2) * alpha**2 / 24\n",
        "    d = fkbeta**0.5\n",
        "    v = (1 - beta)**2 * logfk**2 / 24\n",
        "    w = (1 - beta)**4 * logfk**4 / 1920\n",
        "    z = alpha * fkbeta**0.5 * logfk / sigma0\n",
        "    tmp = sigma0 * (1 + (a + b + c) * T)\n",
        "    num = np.where(abs(z) > eps, z * tmp, tmp)\n",
        "    den = np.where(abs(z) > eps, (d * (1 + v + w) * _x(rho, z)), d * (1 + v + w))\n",
        "    return num / den\n",
        "\n",
        "def _x(rho, z):\n",
        "    \"\"\"Return function x used in Hagan's 2002 SABR lognormal vol expansion.\"\"\"\n",
        "    a = (1 - 2*rho*z + z**2)**.5 + z - rho\n",
        "    b = 1 - rho\n",
        "    return np.log(a / b)\n"
      ],
      "execution_count": null,
      "outputs": []
    },
    {
      "cell_type": "markdown",
      "metadata": {
        "id": "KDk2ojQGvRg5"
      },
      "source": [
        "Regardons tout d'abord ce que donnent les prix BS et normal en utilisant les volatilités ATM dans ces deux modèles."
      ]
    },
    {
      "cell_type": "code",
      "metadata": {
        "colab": {
          "base_uri": "https://localhost:8080/"
        },
        "id": "gHBm6sPyiqgr",
        "outputId": "8743162a-f278-4a03-9dc8-2598be0f173b"
      },
      "source": [
        "# get norm & BS ATM vols for X & Y\n",
        "bs_vol_X = sabr_vol(T, fwd_X0, fwd_X0, X_sigma0, X_alpha, X_rho, X_beta)\n",
        "norm_vol_X = bs_to_norm_vol(T, fwd_X0, fwd_X0, bs_vol_X)\n",
        "\n",
        "bs_vol_Y = sabr_vol(T, fwd_Y0, fwd_Y0, Y_sigma0, Y_alpha, Y_rho, Y_beta)\n",
        "norm_vol_Y = bs_to_norm_vol(T, fwd_X0, fwd_Y0, bs_vol_Y)\n",
        "\n",
        "# compute price\n",
        "bs_price = discount * bs_spread_option(T, K, fwd_X0, fwd_Y0, bs_vol_X, bs_vol_Y, rho_XY)\n",
        "normal_price = discount * norm_spread_option (T, K, fwd_X0, fwd_Y0, norm_vol_X, norm_vol_Y, rho_XY)\n",
        "\n",
        "print(\"SPREAD OPTION | T = {} | K = {} | \\n\".format(T, K))\n",
        "print(\"Spread option SABR (rappel) : {:.4f}\".format(sabr_price))\n",
        "print(\"Spread option BS (vol ATM) : {:.4f}\".format(bs_price))\n",
        "print(\"Spread option normal (vol ATM) {:.4f}\".format(normal_price))\n",
        "#print(\"Rel. error normal vs. SABR : {:.2f}%\".format(100 * (normal_price - sabr_price) / sabr_price))\n"
      ],
      "execution_count": null,
      "outputs": [
        {
          "output_type": "stream",
          "name": "stdout",
          "text": [
            "SPREAD OPTION | T = 1 | K = 15 | \n",
            "\n",
            "Spread option SABR (rappel) : 3.7319\n",
            "Spread option BS (vol ATM) : 3.3978\n",
            "Spread option normal (vol ATM) 3.5522\n"
          ]
        }
      ]
    },
    {
      "cell_type": "markdown",
      "metadata": {
        "id": "AtHmTrQ96VnA"
      },
      "source": [
        "Prendre les volatitilités de $X$ et $Y$ à un strike \"équivalent\" améliore grandement les choses. Le principe est le suivant :\n",
        "\n",
        "$$\n",
        "(X_T-Y_T - K)^+ = (X_T-(Y_T + K))^+\n",
        "$$\n",
        "\n",
        "si bien qu'il est intéressant de calculer la volatilité de $X$ (sur son smile SABR) à un niveau de strike égal à l'espérance de $Y_T + K$ c'est à dire au strike :\n",
        "\n",
        "$$\n",
        "K_X = F_0^Y+K\n",
        "$$\n",
        "\n",
        "De la même manière on calculera la volatilité de $Y$ au strike :\n",
        "\n",
        "$$\n",
        "K_Y = F_0^X-K\n",
        "$$"
      ]
    },
    {
      "cell_type": "code",
      "metadata": {
        "colab": {
          "base_uri": "https://localhost:8080/"
        },
        "id": "n02XtfTykW__",
        "outputId": "257380d5-d0a9-4060-e430-1397b946bf42"
      },
      "source": [
        "# get norm & BS vols @ equivalent strike for X & Y\n",
        "equiv_strike_X = fwd_Y0 + K\n",
        "bs_vol_X = sabr_vol(T, equiv_strike_X, fwd_X0, X_sigma0, X_alpha, X_rho, X_beta)\n",
        "norm_vol_X = bs_to_norm_vol(T, equiv_strike_X, fwd_X0, bs_vol_X)\n",
        "\n",
        "equiv_strike_Y = fwd_X0 - K\n",
        "bs_vol_Y = sabr_vol(T, equiv_strike_Y, fwd_Y0, Y_sigma0, Y_alpha, Y_rho, Y_beta)\n",
        "norm_vol_Y = bs_to_norm_vol(T, equiv_strike_Y, fwd_Y0, bs_vol_Y)\n",
        "\n",
        "# compute prices\n",
        "bs_price = discount * bs_spread_option(T, K, fwd_X0, fwd_Y0, bs_vol_X, bs_vol_Y, rho_XY)\n",
        "normal_price = discount * norm_spread_option (T, K, fwd_X0, fwd_Y0, norm_vol_X, norm_vol_Y, rho_XY)\n",
        "\n",
        "print(\"SPREAD OPTION | T = {} | K = {} | \\n\".format(T, K))\n",
        "print(\"Spread option SABR (rappel) : {:.4f}\".format(sabr_price))\n",
        "print(\"Spread option BS (vol @ equiv strike) : {:.4f}\".format(bs_price))\n",
        "print(\"Spread option normal (vol @ equiv strike) {:.4f}\".format(normal_price))"
      ],
      "execution_count": null,
      "outputs": [
        {
          "output_type": "stream",
          "name": "stdout",
          "text": [
            "SPREAD OPTION | T = 1 | K = 15 | \n",
            "\n",
            "Spread option SABR (rappel) : 3.7319\n",
            "Spread option BS (vol @ equiv strike) : 3.6343\n",
            "Spread option normal (vol @ equiv strike) 3.6155\n"
          ]
        }
      ]
    }
  ]
}