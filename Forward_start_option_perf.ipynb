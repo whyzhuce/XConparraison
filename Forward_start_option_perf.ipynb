{
  "cells": [
    {
      "cell_type": "markdown",
      "metadata": {
        "id": "view-in-github",
        "colab_type": "text"
      },
      "source": [
        "<a href=\"https://colab.research.google.com/github/whyzhuce/XConparraison/blob/master/Forward_start_option_perf.ipynb\" target=\"_parent\"><img src=\"https://colab.research.google.com/assets/colab-badge.svg\" alt=\"Open In Colab\"/></a>"
      ]
    },
    {
      "cell_type": "markdown",
      "metadata": {
        "id": "JT8GdQmXXB4B"
      },
      "source": [
        "# Option forward start sur performance\n",
        "---\n",
        "> **Antonin Chaix**\n",
        "\n",
        "Le but de ce TP est d'étudier l'option de payoff en $T_2$ :\n",
        "\n",
        "$$\n",
        "\\left(\\frac{S_{T_2}}{S_{T_1}} - k\\right)^+\n",
        "$$\n",
        "\n",
        "avec $0 < T_1 < T_2$ et $S$ un actif sans dividendes. Financièrement, si $k=1$, cette option paye la performance positive de l'actif $S$ sur la période $[T_1, T_2]$. Si $k=1.1$, elle paye le surplus de performance de l'actif au-delà de 10%.\n",
        "\n",
        "S'il elle paraît simple au premier abord, cette option est en réalité très dangereuse car elle intègre un fort risque de *vol forward* : en vendant une telle option, on s'engage sur le niveau de la volatilité implicite future.\n",
        "\n",
        "En effet... Prenons à nouveau la situation où $k=1$. On s'engage à livrer en $T_1$ une option à la monnaie de maturité $T_2$ sur l'actif normalisé $\\frac{S_{T_2}}{S_{T_1}}$ (c'est à dire sur la performance de l'actif entre $T_1$ et $T_2$). En l'absence de dividende, et avec un taux d'intérêt nul, l'approximation classique pour la valeur des cette option en $T_1$ est :\n",
        "\n",
        "$$\n",
        "0.4\\times\\sigma\\sqrt{T_2-T_1}\n",
        "$$\n",
        "\n",
        "où $\\sigma$ représente la valeur de la volatilité implicite en $T_1$ d'une option ATM de maturité $T_2$ sur l'actif $S$.\n",
        "\n",
        "Ainsi le payoff de notre option dépend *exclusivement* du niveau *futur* de la volatilité implicite. A noter que puisque le call forward start porte sur l'actif normalisé $\\frac{S_{T_2}}{S_{T_1}}$, cette option n'a ni delta, ni gamma ! Un modèle à volatilité stochastique est donc hautement souhaitable pour évaluer et risk-manager cette option...\n",
        "\n",
        "**Idée du TP** : évaluer cette option avec un modèle à vol stochastique (SABR) et comparer avec les valeurs obtenues lorsque l'on utilise (naïvement) Black-Scholes...\n",
        "\n",
        "Pour plus de précisions sur le modèle SABR et la façon d'implémenter le Monte Carlo associé, se reporter à [ce TP](https://colab.research.google.com/drive/1NhQqGLtLBl1ACUDOKEJkbUzi7cMbbiax?usp=sharing).\n"
      ]
    },
    {
      "cell_type": "markdown",
      "metadata": {
        "id": "JS4Fq14u0Hih"
      },
      "source": [
        "## Simulation des trajectoires dans le modèle SABR"
      ]
    },
    {
      "cell_type": "code",
      "execution_count": null,
      "metadata": {
        "id": "qpIiyTQmzrOO"
      },
      "outputs": [],
      "source": [
        "import numpy as np\n",
        "import math\n",
        "\n",
        "# underlying params\n",
        "S0 = 100.\n",
        "r = 0\n",
        "\n",
        "# SABR params\n",
        "sigma0 = 0.20 # vol initiale\n",
        "alpha = 0.6 # volvol\n",
        "rho = -0.55 # correl fwd/vol\n",
        "beta =  1. # exposant CEV\n",
        "\n",
        "# MC params\n",
        "Nsimul = 5*10**5\n",
        "Nsteps = 100\n",
        "\n",
        "t2 = 1. # MC horizon = option maturity\n",
        "t = np.linspace(0, t2, Nsteps+1, endpoint=True); # discrétisation en temps\n",
        "i_t1 = int(Nsteps/2) # index de t1 dans la discrétisation en temps : à mi-chemin\n",
        "t1 = t[i_t1]\n",
        "\n",
        "# precalcs\n",
        "dt = t2 / Nsteps\n",
        "sqrt_dt = math.sqrt(dt)\n",
        "\n",
        "# generate gaussian random variables (with correl)\n",
        "norm1 = np.random.normal(0, 1, (Nsteps, Nsimul))\n",
        "norm2 = rho * norm1 + math.sqrt(1 - rho ** 2) * np.random.normal(0, 1, (Nsteps, Nsimul))\n",
        "\n",
        "# forward on time steps x simulations\n",
        "fwd = np.empty(shape=(Nsteps+1, Nsimul))\n",
        "fwd[0,:] = S0 * math.exp(r*t2)\n",
        "\n",
        "# vol on time steps x simulations\n",
        "sigma = np.empty(shape=(Nsteps+1, Nsimul))\n",
        "sigma[0,:] = sigma0\n",
        "\n",
        "# MC loop SABR\n",
        "for i in range(Nsteps) :\n",
        "\tfwd[i+1,:] = fwd[i,:] + sigma[i,:] * np.power(fwd[i,:], beta) * sqrt_dt * norm1[i,:]\n",
        "\tsigma[i+1,:] = sigma[i,:] * np.exp(-0.5 * alpha**2 * dt + alpha * sqrt_dt * norm2[i,:])\n",
        "\n",
        "# calcul du spot SABR à partir du fwd\n",
        "S_sabr = fwd * np.exp(-r*(t2-t[:, np.newaxis]))"
      ]
    },
    {
      "cell_type": "markdown",
      "metadata": {
        "id": "woXc6we9F2TK"
      },
      "source": [
        "## Fonctions utiles\n",
        "\n",
        "Pour la suite, nous avons besoin :\n",
        "\n",
        "* de la formule de Black & Scholes\n",
        "* de la formule (approchée) donnant la vol implicite lognormale dans le modèle SABR\n",
        "* d'une petite fonction pour calculer et afficher prix Monte Carlo + intervalle de confiance à partir des trajectoires de l'actif\n"
      ]
    },
    {
      "cell_type": "code",
      "execution_count": null,
      "metadata": {
        "id": "QMmuUaGeF-b_"
      },
      "outputs": [],
      "source": [
        "from scipy.stats import norm\n",
        "\n",
        "# BS formula for a call / numpy compatible\n",
        "def bs_call(T, K, F0, sigma) :\n",
        "    sigma_sqrt_T = sigma * np.sqrt(T)\n",
        "    d1 = (np.log(F0/K) + 0.5 * sigma**2 * T) / sigma_sqrt_T\n",
        "    d2 = d1 - sigma_sqrt_T\n",
        "    return F0 * norm.cdf(d1) - K * norm.cdf(d2)\n",
        "\n",
        "\n",
        "# SABR lognormal vol formula from [https://github.com/ynouri/pysabr] made numpy compatible\n",
        "def sabr_vol (T, K, F0, sigma0, alpha, rho, beta) :\n",
        "    \"\"\"\n",
        "    Hagan's 2002 SABR lognormal vol expansion.\n",
        "    The strike K can be a scalar or an array, the function will return an array\n",
        "    of lognormal vols.\n",
        "    \"\"\"\n",
        "    eps = 1e-07\n",
        "    logfk = np.log(F0 / K)\n",
        "    fkbeta = (F0*K)**(1 - beta)\n",
        "    a = (1 - beta)**2 * sigma0**2 / (24 * fkbeta)\n",
        "    b = 0.25 * rho * beta * alpha * sigma0 / fkbeta**0.5\n",
        "    c = (2 - 3*rho**2) * alpha**2 / 24\n",
        "    d = fkbeta**0.5\n",
        "    v = (1 - beta)**2 * logfk**2 / 24\n",
        "    w = (1 - beta)**4 * logfk**4 / 1920\n",
        "    z = alpha * fkbeta**0.5 * logfk / sigma0\n",
        "    tmp = sigma0 * (1 + (a + b + c) * T)\n",
        "    num = np.where(abs(z) > eps, z * tmp, tmp)\n",
        "    den = np.where(abs(z) > eps, (d * (1 + v + w) * _x(rho, z)), d * (1 + v + w))\n",
        "    return num / den\n",
        "\n",
        "def _x(rho, z):\n",
        "    \"\"\"Return function x used in Hagan's 2002 SABR lognormal vol expansion.\"\"\"\n",
        "    a = (1 - 2*rho*z + z**2)**.5 + z - rho\n",
        "    b = 1 - rho\n",
        "    return np.log(a / b)\n",
        "\n",
        "# compute and display price & confidence interval\n",
        "def compute_and_print_price(payoff, option_name, closed_form_price = -1) :\n",
        "    price = payoff.mean()\n",
        "    stdev = np.std(payoff)\n",
        "    IClow = price - 1.96 * stdev / math.sqrt(Nsimul)\n",
        "    ICup = price + 1.96 * stdev / math.sqrt(Nsimul)\n",
        "    if (closed_form_price == -1) : print(\"{} = {:.4f}\".format(option_name, price) )\n",
        "    else :  print(\"{} = {:.4f} (closed-form price = {:.4f})\".format(option_name, price, closed_form_price) )\n",
        "    print(\"IC 95% = [{:.4f} ; {:.4f}]\".format(IClow,ICup) )\n",
        "    print(\"-----------------------------------------------------\")\n"
      ]
    },
    {
      "cell_type": "markdown",
      "metadata": {
        "id": "WcvkH0odFlHX"
      },
      "source": [
        "## Pricing de l'option dans le modèle SABR et comparaison avec BS\n",
        "\n",
        "Dans le cadre du Monte Carlo SABR (où on simule $n$ trajectoires indicées ci-dessous avec $i$), il y a plusieurs façons d'évaluer l'option.\n",
        "\n",
        "La plus naturelle est d'utiliser l'estimateur :\n",
        "\n",
        "$$\n",
        "\\frac{1}{n}\\sum_{i=1}^n e^{-rT_2} \\left(\\frac{S_{T_2}^i}{S_{T_1}^i}-k\\right)^+\n",
        "$$\n",
        "\n",
        "Mais on peut également écrire que l'on reçoit en $T_1$ un call de strike $k$ sur l'actif normalisé (c'est à dire un call de strike $k-1$ sur la performance de l'actif entre $T_1$ et $T_2$), ce qui nous donne l'estimateur :\n",
        "\n",
        "$$\n",
        "e^{-rT_1}\\frac{1}{n}\\sum_{i=1}^n e^{-r(T_2-T_1)}\\,\\text{BScall}\\left(T=T_2-T_1, K=k, F_0=e^{r(T_2-T_1)},\\sigma=\\sigma_{\\text{sabr}}^i\\right)\n",
        "$$\n",
        "\n",
        "où $\\sigma_{\\text{sabr}}^i$ représente la volatilité (forward) du call dans le modèle SABR en $T_1$ pour la maturité $T_2$, donc pour le niveau de spot $S_{T_1}^i$, le strike $k\\times S_{T_1}^i$ et la volatilité SABR $\\sigma_{T_1}^i$ :\n",
        "\n",
        "$$\n",
        "\\sigma_{\\text{sabr}}^i = \\sigma_{\\text{sabr}}\\left(T=T_2-T_1, K=k S_{T_1}^i, F_0=S_{T_1}^i e^{r(T_2-T_1)}, \\sigma_0=\\sigma_{T_1}^i, α\t, ρ, β\\right)\n",
        "$$\n",
        "\n",
        "Dans le cas où $r=0$ et $k=1$, le call sous-jacent est ATM forward ce qui nous permet d'utiliser l'approximation :\n",
        "\n",
        "$$\n",
        "\\text{BScall}\\left(T_2-T_1, k, e^{r(T_2-T_1)},\\sigma_{\\text{sabr}}^i\\right) = \\text{BScall}\\left(T_2-T_1, 1, 1,\\sigma_{\\text{sabr}}^i\\right)\\approx \\frac{1}{\\sqrt{2π}}\\sigma_{\\text{sabr}}^i\\sqrt{T_2-T_1}\n",
        "$$\n",
        "\n",
        "Pour évaluer l'option dans le modèle de Black & Scholes, rien de plus simple : son payoff en $T_1$ est déterministe (d'où le côté très inapproprié de l'utilisation de ce modèle !). En $T_1$, on reçoit le call sur performance, dont la valeur ne dépend pas du niveau de l'actif en $T_1$, mais uniquement de la vol forward $T_1\\rightarrow T_2$, c'est à dire tout simplement la volatilité $\\sigma$ du modèle de Black & Scholes. Son prix est donc:\n",
        "\n",
        "$$\n",
        "e^{-rT_1}\\,e^{-r(T_2-T_1)}\\,\\text{BScall}\\left(T=T_2-T_1, K=k, F_0=e^{r(T_2-T_1)},\\sigma\\right) = e^{-rT_2}\\,\\text{BScall}\\left(T_2-T_1, k, e^{r(T_2-T_1)},\\sigma\\right)\n",
        "$$\n",
        "\n",
        "Connaissant en $t=0$ le smile de volatilité pour la maturité $T_2$, c'est à dire les paramètres SABR, il est pertinent de choisir comme vol $\\sigma$ du modèle BS, la vol forward dans le modèle SABR, c'est à dire :\n",
        "\n",
        "$$\n",
        "\\sigma =  \\sigma_{\\text{sabr}}\\left(T=T_2-T_1, K=k S_0, F_0=S_0e^{r(T_2-T_1)}, \\sigma_0, α\t, ρ, β\\right)\n",
        "$$\n"
      ]
    },
    {
      "cell_type": "markdown",
      "metadata": {
        "id": "Wxh2Kg3k2eV0"
      },
      "source": [
        "### Cas ATM $(k=1)$\n",
        "\n",
        "Voyons voir ci-dessous ce que donnent ces différentes méthodes pour évaluer l'option dans le cas où $k=1$."
      ]
    },
    {
      "cell_type": "code",
      "execution_count": null,
      "metadata": {
        "colab": {
          "base_uri": "https://localhost:8080/"
        },
        "id": "HLLtggAkRdqq",
        "outputId": "040b4d4f-09d5-40fe-87c2-64e7bfd2fcbb"
      },
      "outputs": [
        {
          "name": "stdout",
          "output_type": "stream",
          "text": [
            "SABR | sigma0 = 0.2 | alpha = 0.6 | rho = -0.55 | beta = 1.0 |\n",
            "INPUTS | 500 000 simulations | 100 time steps | r = 0 | T1 = 0.5 | T2 = 1.0 | k = 1.0 | gearing = 1.0 |\n",
            "\n",
            "Prix SABR - méthode 1 (MC to T2) = 5.6257\n",
            "IC 95% = [5.5995 ; 5.6520]\n",
            "-----------------------------------------------------\n",
            "Prix SABR - methode 2 (MC to T1) = 5.6236\n",
            "IC 95% = [5.6168 ; 5.6304]\n",
            "-----------------------------------------------------\n",
            "Prix SABR - methode 3 (MC to T1, approx) = 5.6315\n",
            "IC 95% = [5.6247 ; 5.6384]\n",
            "-----------------------------------------------------\n",
            "Prix BS = 5.6369\n",
            "\n",
            "Prix BS et prix SABR coïncident parfaitement !\n"
          ]
        }
      ],
      "source": [
        "# ===========================================================\n",
        "# Option pays : gearing * 100 * (S(t2)/S(t1) - k)^+\n",
        "# ===========================================================\n",
        "k = 1.0\n",
        "gearing = 1.0\n",
        "\n",
        "# some display\n",
        "print(\"SABR | sigma0 = {} | alpha = {} | rho = {} | beta = {} |\".format(sigma0, alpha, rho, beta))\n",
        "print(\"INPUTS | {:,} simulations | {} time steps | r = {} | T1 = {} | T2 = {} | k = {} | gearing = {} |\\n\".format(Nsimul, Nsteps, r, t1, t2, k, gearing).replace(',', ' '))\n",
        "\n",
        "# Compute payoffs...\n",
        "\n",
        "# Méthode 1 : MC to T2\n",
        "payoff_fwd_start_sabr_1 = gearing * 100. * math.exp(-r*t2) * np.maximum(S_sabr[-1,:]/S_sabr[i_t1,:] - k, 0)  #\n",
        "\n",
        "# Méthode 2 : MC to T1 + Black & Scholes\n",
        "fwd_vol_sabr = sabr_vol (t2-t1, S_sabr[i_t1,:] * k, fwd[i_t1,:], sigma[i_t1,:], alpha, rho, beta)\n",
        "payoff_fwd_start_sabr_2 = gearing * 100. * math.exp(-r*t1) * math.exp(-r*(t2-t1)) * bs_call(t2-t1, k, math.exp(r*(t2-t1)), fwd_vol_sabr)\n",
        "\n",
        "# Méthode 3 : MC to T1 + Approx Black & Scholes (option ATM forward)\n",
        "payoff_fwd_start_sabr_3 = gearing * 100. * math.exp(-r*t1) * (1./math.sqrt(2.*math.pi)) * fwd_vol_sabr * math.sqrt(t2-t1) # approx ATM forward, ne marche que si k=1 et r=0\n",
        "\n",
        "# compute & display MC prices\n",
        "compute_and_print_price(payoff_fwd_start_sabr_1, \"Prix SABR - méthode 1 (MC to T2)\")\n",
        "compute_and_print_price(payoff_fwd_start_sabr_2, \"Prix SABR - methode 2 (MC to T1)\")\n",
        "compute_and_print_price(payoff_fwd_start_sabr_3, \"Prix SABR - methode 3 (MC to T1, approx)\") # approx ATM forward, ok si k=1 & r=0\n",
        "\n",
        "# Pricing Black & Scholes\n",
        "vol_bs = sabr_vol (t2-t1, S0 * k, S0*math.exp(r*(t2-t1)), sigma0, alpha, rho, beta) # SABR fwd vol\n",
        "bs_price = gearing * 100. * math.exp(-r*t1) * math.exp(-r*(t2-t1)) * bs_call(t2-t1, k, math.exp(r*(t2-t1)), vol_bs)\n",
        "print(\"Prix BS = {:.4f}\".format(bs_price))\n",
        "print(\"\\nPrix BS et prix SABR coïncident parfaitement !\")\n"
      ]
    },
    {
      "cell_type": "markdown",
      "metadata": {
        "id": "6lOWDt76Cz4w"
      },
      "source": [
        "Cette égalité entre le prix SABR de l'option et le prix Black & Scholes était somme toute prévisible. En effet, l'option étant à la monnaie forward, le payoff en $T_1$ de l'option est une fonction linéaire de la vol forward $T_1\\rightarrow T_2$ (rappelons-nous que le call reçu en $T_1$ vaut approximativement $0.4 σ \\sqrt{T_2-T_1}$ où $\\sigma$ est la vol forward $T_1\\rightarrow T_2$ dans le modèle utilisé). Confirmons cela avec le graphique suivant..."
      ]
    },
    {
      "cell_type": "code",
      "execution_count": null,
      "metadata": {
        "colab": {
          "base_uri": "https://localhost:8080/",
          "height": 566
        },
        "id": "dffo0OEq3Xwb",
        "outputId": "7eb51885-2a57-4864-a087-3928dc2b1f01"
      },
      "outputs": [
        {
          "data": {
            "image/png": "[encoded data removed]",
            "text/plain": [
              "<Figure size 900x600 with 1 Axes>"
            ]
          },
          "metadata": {},
          "output_type": "display_data"
        }
      ],
      "source": [
        "import matplotlib.pyplot as plt\n",
        "plt.rcParams[\"figure.figsize\"] = (9,6)\n",
        "k = 1\n",
        "vols = np.arange(0.01, 0.5, 0.005)\n",
        "plt.plot(vols, 100.* bs_call(t2-t1, k, 1., vols))\n",
        "plt.title(\"Prix en T1 du call sur la perf entre T1 et T2 en fonction de la volatilité (k = 1)\\n\")\n",
        "plt.show()"
      ]
    },
    {
      "cell_type": "markdown",
      "metadata": {
        "id": "FK0ogd-l3_df"
      },
      "source": [
        "En réalité dans ce cas, seule l'espérance, dans le modèle utilisé, de la vol implicite du call sur perf $T_1\\rightarrow T_2$, intervient dans le prix de l'option forward start.\n",
        "\n",
        "Donc un modèle déterministe sur la volatilité comme Black & Scholes donne le même résultat que le modèle SABR à vol stochastique dès lors que sa volatilité est calibrée sur le smile SABR (ce que nous avons fait) !\n"
      ]
    },
    {
      "cell_type": "markdown",
      "metadata": {
        "id": "JycCq9nc_tUe"
      },
      "source": [
        "### Cas OTM ($k>1)$\n",
        "\n",
        "Bien sûr les choses ne sont pas toujours aussi simples. Prenons l'exemple d'une option avec $k=1.2$ (l'option paye le surplus de performance entre $T_1$ et $T_2$ de l'actif au delà de 20%), avec un levier de 7 pour garder les mêmes ordres de grandeur sur le prix de l'option."
      ]
    },
    {
      "cell_type": "code",
      "execution_count": null,
      "metadata": {
        "colab": {
          "base_uri": "https://localhost:8080/"
        },
        "id": "VnZEYK4GBO8o",
        "outputId": "ba953215-8342-4882-bcc9-06b0229eaf2c"
      },
      "outputs": [
        {
          "name": "stdout",
          "output_type": "stream",
          "text": [
            "SABR | sigma0 = 0.2 | alpha = 0.6 | rho = -0.55 | beta = 1.0 |\n",
            "INPUTS | 500 000 simulations | 100 time steps | r = 0 | T1 = 0.5 | T2 = 1.0 | k = 1.2 | gearing = 7 |\n",
            "\n",
            "Prix SABR - méthode 1 (MC to T2) = 5.7214\n",
            "IC 95% = [5.6320 ; 5.8107]\n",
            "-----------------------------------------------------\n",
            "Prix SABR - methode 2 (MC to T1) = 5.6773\n",
            "IC 95% = [5.6517 ; 5.7030]\n",
            "-----------------------------------------------------\n",
            "Prix BS = 3.1681\n",
            "\n",
            "Prix BS et prix SABR ne coïncident plus du tout !\n"
          ]
        }
      ],
      "source": [
        "# ===========================================================\n",
        "# Option pays : gearing * 100 * (S(t2)/S(t1) - k)^+\n",
        "# ===========================================================\n",
        "k = 1.2\n",
        "gearing = 7\n",
        "\n",
        "# some display\n",
        "print(\"SABR | sigma0 = {} | alpha = {} | rho = {} | beta = {} |\".format(sigma0, alpha, rho, beta))\n",
        "print(\"INPUTS | {:,} simulations | {} time steps | r = {} | T1 = {} | T2 = {} | k = {} | gearing = {} |\\n\".format(Nsimul, Nsteps, r, t1, t2, k, gearing).replace(',', ' '))\n",
        "\n",
        "# Compute payoffs...\n",
        "\n",
        "# Méthode 1 : MC to T2\n",
        "payoff_fwd_start_sabr_1 = gearing * 100. * math.exp(-r*t2) * np.maximum(S_sabr[-1,:]/S_sabr[i_t1,:] - k, 0)  #\n",
        "\n",
        "# Méthode 2 : MC to T1 + Black & Scholes\n",
        "fwd_vol_sabr = sabr_vol (t2-t1, S_sabr[i_t1,:] * k, fwd[i_t1,:], sigma[i_t1,:], alpha, rho, beta)\n",
        "payoff_fwd_start_sabr_2 = gearing * 100. * math.exp(-r*t1) * math.exp(-r*(t2-t1)) * bs_call(t2-t1, k, math.exp(r*(t2-t1)), fwd_vol_sabr)\n",
        "\n",
        "# compute & display MC prices\n",
        "compute_and_print_price(payoff_fwd_start_sabr_1, \"Prix SABR - méthode 1 (MC to T2)\")\n",
        "compute_and_print_price(payoff_fwd_start_sabr_2, \"Prix SABR - methode 2 (MC to T1)\")\n",
        "\n",
        "# Pricing Black & Scholes\n",
        "vol_bs = sabr_vol (t2-t1, S0 * k, S0*math.exp(r*(t2-t1)), sigma0, alpha, rho, beta) # SABR fwd vol\n",
        "bs_price = gearing * 100. * math.exp(-r*t1) * math.exp(-r*(t2-t1)) * bs_call(t2-t1, k, math.exp(r*(t2-t1)), vol_bs)\n",
        "print(\"Prix BS = {:.4f}\".format(bs_price))\n",
        "print(\"\\nPrix BS et prix SABR ne coïncident plus du tout !\")\n"
      ]
    },
    {
      "cell_type": "markdown",
      "metadata": {
        "id": "XvgTu1lgFGK2"
      },
      "source": [
        "Cette fois-ci la valeur du call payé en $T_1$ n'est plus du tout une fonction linéaire de la volatilité $T_1\\rightarrow T_2$, c'est même une fonction très convexe :"
      ]
    },
    {
      "cell_type": "code",
      "execution_count": null,
      "metadata": {
        "colab": {
          "base_uri": "https://localhost:8080/",
          "height": 566
        },
        "id": "GZBbFQDsF9UF",
        "outputId": "c7211923-70de-4ff7-ff7b-83dd5c944aa8"
      },
      "outputs": [
        {
          "data": {
            "image/png": "[encoded data removed]",
            "text/plain": [
              "<Figure size 900x600 with 1 Axes>"
            ]
          },
          "metadata": {},
          "output_type": "display_data"
        }
      ],
      "source": [
        "k = 1.2\n",
        "plt.plot(vols, 100.* bs_call(t2-t1, k, 1., vols))\n",
        "plt.title(\"Prix en T1 du call sur la perf entre T1 et T2 en fonction de la volatilité (k = 1.2)\\n\")\n",
        "plt.show()"
      ]
    },
    {
      "cell_type": "markdown",
      "metadata": {
        "id": "HT4gxrBgG_lm"
      },
      "source": [
        "D'où la différence de prix significative (quasi un facteur 2 entre le prix SABR et le prix BS !)."
      ]
    }
  ],
  "metadata": {
    "colab": {
      "provenance": [],
      "include_colab_link": true
    },
    "kernelspec": {
      "display_name": "Python 3 (ipykernel)",
      "language": "python",
      "name": "python3"
    },
    "language_info": {
      "codemirror_mode": {
        "name": "ipython",
        "version": 3
      },
      "file_extension": ".py",
      "mimetype": "text/x-python",
      "name": "python",
      "nbconvert_exporter": "python",
      "pygments_lexer": "ipython3",
      "version": "3.11.3"
    }
  },
  "nbformat": 4,
  "nbformat_minor": 0
}