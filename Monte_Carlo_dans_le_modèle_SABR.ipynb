{
  "cells": [
    {
      "cell_type": "markdown",
      "metadata": {
        "id": "view-in-github",
        "colab_type": "text"
      },
      "source": [
        "<a href=\"https://colab.research.google.com/github/whyzhuce/XConparraison/blob/master/Monte_Carlo_dans_le_mod%C3%A8le_SABR.ipynb\" target=\"_parent\"><img src=\"https://colab.research.google.com/assets/colab-badge.svg\" alt=\"Open In Colab\"/></a>"
      ]
    },
    {
      "cell_type": "markdown",
      "metadata": {
        "id": "gWpqqqz-FgXu"
      },
      "source": [
        "# Monte Carlo dans le modèle SABR\n",
        "----\n",
        "> **Antonin Chaix**\n",
        "\n",
        "L'objet de ce TP est d'implémenter un Monte Carlo dans le modèle à volatilité stochastique SABR.\n",
        "\n",
        "Au moyen de ce Monte Carlo on pourra vérifier :\n",
        "\n",
        "* que les prix obtenus pour des options européennes sont conformes à ceux fournis par la formule SABR\n",
        "* que le prix obtenu pour une option binaire européenne est conforme au pricing par call spread (utilisant les vols implicites SABR)\n",
        "\n",
        "\n",
        "## Le modèle SABR\n",
        "\n",
        "Le modèle SABR spécifie directement la dynamique du forward de l'actif modélisé (d'où l'absence de drift) :\n",
        "\n",
        "\n",
        "$$\n",
        "dF_t = \\sigma_t F_t^\\beta dW_t^1 \\qquad \\frac{d\\sigma_t}{\\sigma_t} = \\alpha dW_t^2\n",
        "$$\n",
        "\n",
        "$F_0$ étant donné, le modèle est défini par les 4 paramètres :\n",
        "* $\\sigma_0$ (valeur initiale de la volatilité)\n",
        "* $\\alpha$ (volatilité de la volatilité)\n",
        "* $\\beta$ (exposant CEV)\n",
        "* $\\rho$ (correlation entre le forward et sa volatilité, i.e. entre $W^1$ et $W^2$)\n",
        "\n",
        "et on dispose d'une formule approchée (implémentée dans la suite) nous donnant dans le modèle SABR la valeur de la vol implicite d'un call/put de maturité $T$ et de strike $K$ en fonction des paramètres $F_0$, $σ_0$, $α$, $β$ et $ρ$.\n",
        "\n",
        "\n",
        "## Monte Carlo sous SABR\n",
        "\n",
        "C'est tout simple : étant donnés $F_t$ et $\\sigma_t$ à l'instant $t$, leurs valeurs au temps suivant $t+\\Delta t$ sont simulées de la façon suivante, au moyen de deux variables gaussiennes $\\varepsilon_1$ et $\\varepsilon_2$ centrées réduites :\n",
        "\n",
        "$$\n",
        "F_{t+\\Delta t} = F_t + \\sigma_t F_t^\\beta \\sqrt{\\Delta t} \\,\\varepsilon_1\\,\\qquad\\text{et}\\qquad\n",
        "\\sigma_{t+\\Delta t} = \\sigma_t\\exp\\left(-\\frac{\\alpha^2}{2}\\Delta t + α \\sqrt{\\Delta t}\\left(\\rho \\varepsilon_1 + \\sqrt{1-\\rho^2}\\,\\varepsilon_2\\right)\\right)\n",
        "$$\n",
        "\n",
        "Dans ce qui suit on s'intéresse à un actif $S$ ne distribuant pas de dividendes. On fera par ailleurs l'hypothèse d'un taux $r$ constant.\n",
        "\n",
        "**Le bloc de code suivant permet de simuler les trajectoires de $F$ et $\\sigma$ :**"
      ]
    },
    {
      "cell_type": "code",
      "execution_count": null,
      "metadata": {
        "colab": {
          "base_uri": "https://localhost:8080/"
        },
        "id": "_dvIji9KFblH",
        "outputId": "e6ad5590-4825-4ded-ac06-cb3ffbf8effb"
      },
      "outputs": [
        {
          "name": "stdout",
          "output_type": "stream",
          "text": [
            "INPUTS | 1 000 000 simulations | 100 time steps | T = 1 | \n",
            "\n",
            "\n"
          ]
        }
      ],
      "source": [
        "import numpy as np\n",
        "import math\n",
        "from scipy.stats import norm\n",
        "\n",
        "# options maturity = MC horizon\n",
        "T = 1\n",
        "\n",
        "# underlying params\n",
        "S0 = 100\n",
        "r = 0.015\n",
        "\n",
        "# MC params\n",
        "Nsimul = 10**6\n",
        "Nsteps = 100\n",
        "\n",
        "# SABR params\n",
        "sigma0 = 1.9847\n",
        "alpha = 0.2657\n",
        "rho = -0.3660\n",
        "beta =  0.5000\n",
        "\n",
        "# precalcs\n",
        "dt = T / Nsteps\n",
        "sqrt_dt = math.sqrt(dt)\n",
        "discount = math.exp(-r * T)\n",
        "\n",
        "# generate gaussian random variables (with correl)\n",
        "norm1 = np.random.normal(0, 1, (Nsteps, Nsimul))\n",
        "norm2 = rho * norm1 + math.sqrt(1 - rho ** 2) * np.random.normal(0, 1, (Nsteps, Nsimul))\n",
        "\n",
        "# forward on time steps x simulations\n",
        "fwd = np.empty(shape=(Nsteps+1, Nsimul))\n",
        "fwd[0,:] = S0 / discount\n",
        "\n",
        "# vol on time steps x simulations\n",
        "sigma = np.empty(shape=(Nsteps+1, Nsimul))\n",
        "sigma[0,:] = sigma0\n",
        "\n",
        "# SABR MC loop\n",
        "for j in range(Nsteps) :\n",
        "    fwd[j+1,:] = fwd[j,:] + sigma[j,:] * np.power(fwd[j,:], beta) * sqrt_dt * norm1[j,:]\n",
        "    sigma[j+1,:] = sigma[j,:] * np.exp(-0.5 * alpha**2 * dt + alpha * sqrt_dt * norm2[j,:])\n",
        "\n",
        "\n",
        "print(\"INPUTS | {:,} simulations | {} time steps | T = {} | \\n\\n\".format(Nsimul, Nsteps, T).replace(',', ' '))"
      ]
    },
    {
      "cell_type": "markdown",
      "metadata": {
        "id": "wGomzbw8VMUF"
      },
      "source": [
        "## Fonctions utiles\n",
        "\n",
        "Ci-dessous une petite fonction permettant de calculer/afficher prix et intervalle de confiance dans le Monte Carlo SABR en fonction du payoff de l'option, la formule de Black pour un call et enfin la formule SABR donnant la vol implicite d'un call/put de maturité $T$ et de strike $K$ en fonction des paramètres $F_0$, $σ_0$, $α$, $β$ et $ρ$."
      ]
    },
    {
      "cell_type": "code",
      "execution_count": null,
      "metadata": {
        "id": "k4BKsO5TVu9T"
      },
      "outputs": [],
      "source": [
        "# compute and display price & confidence interval\n",
        "def compute_and_print_price(payoff, option_name, closed_form_price = -1) :\n",
        "\tprice = payoff.mean()\n",
        "\tstdev = np.std(payoff)\n",
        "\tIClow = price - 1.96 * stdev / math.sqrt(Nsimul)\n",
        "\tICup = price + 1.96 * stdev / math.sqrt(Nsimul)\n",
        "\tif (closed_form_price == -1) : print(\"{} = {:.4f}\".format(option_name, price) )\n",
        "\telse : \tprint(\"{} = {:.4f} (closed-form price = {:.4f})\".format(option_name, price, closed_form_price) )\n",
        "\tprint(\"IC 95% = [{:.4f} ; {:.4f}]\".format(IClow,ICup) )\n",
        "\tprint(\"-----------------------------------------------------\")\n",
        "\n",
        "# BS formula for a call\n",
        "def bs_call(T, K, F0, sigma) :\n",
        "\tsigma_sqrt_T = sigma * math.sqrt(T)\n",
        "\td1 = (math.log(F0/K) + 0.5 * sigma**2 * T) / sigma_sqrt_T\n",
        "\td2 = d1 - sigma_sqrt_T\n",
        "\treturn F0 * norm.cdf(d1) - K * norm.cdf(d2)\n",
        "\n",
        "\n",
        "# SABR lognormal vol formula from [https://github.com/ynouri/pysabr] made numpy compatible\n",
        "def sabr_vol (T, K, F0, sigma0, alpha, rho, beta) :\n",
        "    \"\"\"\n",
        "    Hagan's 2002 SABR lognormal vol expansion.\n",
        "    The strike K can be a scalar or an array, the function will return an array\n",
        "    of lognormal vols.\n",
        "    \"\"\"\n",
        "    eps = 1e-07\n",
        "    logfk = np.log(F0 / K)\n",
        "    fkbeta = (F0*K)**(1 - beta)\n",
        "    a = (1 - beta)**2 * sigma0**2 / (24 * fkbeta)\n",
        "    b = 0.25 * rho * beta * alpha * sigma0 / fkbeta**0.5\n",
        "    c = (2 - 3*rho**2) * alpha**2 / 24\n",
        "    d = fkbeta**0.5\n",
        "    v = (1 - beta)**2 * logfk**2 / 24\n",
        "    w = (1 - beta)**4 * logfk**4 / 1920\n",
        "    z = alpha * fkbeta**0.5 * logfk / sigma0\n",
        "    tmp = sigma0 * (1 + (a + b + c) * T)\n",
        "    num = np.where(abs(z) > eps, z * tmp, tmp)\n",
        "    den = np.where(abs(z) > eps, (d * (1 + v + w) * _x(rho, z)), d * (1 + v + w))\n",
        "    return num / den\n",
        "\n",
        "def _x(rho, z):\n",
        "    \"\"\"Return function x used in Hagan's 2002 SABR lognormal vol expansion.\"\"\"\n",
        "    a = (1 - 2*rho*z + z**2)**.5 + z - rho\n",
        "    b = 1 - rho\n",
        "    return np.log(a / b)"
      ]
    },
    {
      "cell_type": "markdown",
      "metadata": {
        "id": "ub7vCoxQWW9k"
      },
      "source": [
        "## Evaluation Monte Carlo vs. formules analytiques\n",
        "\n",
        "Il ne reste plus qu'à définir le strike de nos options et à calculer leur payoff."
      ]
    },
    {
      "cell_type": "code",
      "execution_count": null,
      "metadata": {
        "colab": {
          "base_uri": "https://localhost:8080/"
        },
        "id": "AGuDicuNWjSt",
        "outputId": "ebe38797-96ff-400c-a7bf-d1e9fe83dfe8"
      },
      "outputs": [
        {
          "name": "stdout",
          "output_type": "stream",
          "text": [
            "Forward = 101.5060 (closed-form price = 101.5113)\n",
            "IC 95% = [101.4665 ; 101.5455]\n",
            "-----------------------------------------------------\n",
            "Call européen = 8.6316 (closed-form price = 8.6337)\n",
            "IC 95% = [8.6077 ; 8.6554]\n",
            "-----------------------------------------------------\n",
            "Binaire = 0.5220 (closed-form price = 0.5222)\n",
            "IC 95% = [0.5210 ; 0.5229]\n",
            "-----------------------------------------------------\n",
            "Binaire BS naïve = 0.4831\n",
            "-----------------------------------------------------\n",
            "\n",
            "It works !\n"
          ]
        }
      ],
      "source": [
        "# call & digital strike\n",
        "K = 100\n",
        "\n",
        "# compute payoffs for Monte Carlo\n",
        "payoff_call = discount * np.maximum(fwd[-1,:] - K , 0)  # => MC call price  = payoff_call.mean()\n",
        "payoff_binaire = discount * np.where(fwd[-1,:] > K, 1., 0.)  # => MC binaire price  = payoff_binaire.mean()\n",
        "\n",
        "# closed form for european call\n",
        "F0 = S0 / discount\n",
        "vol = sabr_vol (T, K, F0, sigma0, alpha, rho, beta)\n",
        "call_price =  discount * bs_call(T, K, F0, vol)\n",
        "\n",
        "# closed form for digital option (call spread)\n",
        "vol_minus = sabr_vol (T, K-1, F0, sigma0, alpha, rho, beta)\n",
        "vol_plus  = sabr_vol (T, K+1, F0, sigma0, alpha, rho, beta)\n",
        "digital = discount * (bs_call(T, K-1, F0, vol_minus) - bs_call(T, K+1, F0, vol_plus)) / 2.\n",
        "digital_bs = discount * (bs_call(T, K-1, F0, vol) - bs_call(T, K+1, F0, vol)) / 2. # binaire naïve sans prendre en compte le skew\n",
        "\n",
        "# compute & display MC prices\n",
        "compute_and_print_price(fwd[-1,:], \"Forward\", F0)\n",
        "compute_and_print_price(payoff_call, \"Call européen\", call_price)\n",
        "compute_and_print_price(payoff_binaire, \"Binaire\", digital)\n",
        "print(\"Binaire BS naïve = {:.4f}\".format(digital_bs))\n",
        "print(\"-----------------------------------------------------\")\n",
        "\n",
        "print(\"\\nIt works !\")\n",
        "\n"
      ]
    },
    {
      "cell_type": "code",
      "execution_count": null,
      "metadata": {
        "id": "liSIyB9sH1JC"
      },
      "outputs": [],
      "source": []
    }
  ],
  "metadata": {
    "colab": {
      "provenance": [],
      "include_colab_link": true
    },
    "kernelspec": {
      "display_name": "Python 3 (ipykernel)",
      "language": "python",
      "name": "python3"
    },
    "language_info": {
      "codemirror_mode": {
        "name": "ipython",
        "version": 3
      },
      "file_extension": ".py",
      "mimetype": "text/x-python",
      "name": "python",
      "nbconvert_exporter": "python",
      "pygments_lexer": "ipython3",
      "version": "3.11.3"
    }
  },
  "nbformat": 4,
  "nbformat_minor": 0
}